{
 "cells": [
  {
   "cell_type": "code",
   "execution_count": 1,
   "metadata": {},
   "outputs": [],
   "source": [
    "import warnings\n",
    "warnings.filterwarnings(\"ignore\")"
   ]
  },
  {
   "cell_type": "code",
   "execution_count": 2,
   "metadata": {},
   "outputs": [],
   "source": [
    "import numpy as np\n",
    "\n",
    "from climada.hazard import Hazard\n",
    "\n",
    "tc_wind = Hazard.from_hdf5(\"./data/tc_wind/tc_wind_SHANSHAN_20240825000000.hdf5\")\n",
    "tc_wind.frequency = np.ones(len(tc_wind.frequency))/51 # change frequency to get the ensemble mean"
   ]
  },
  {
   "cell_type": "code",
   "execution_count": 17,
   "metadata": {},
   "outputs": [],
   "source": [
    "import numpy as np\n",
    "from climada.util.coordinates import get_country_code\n",
    "\n",
    "idx_non_zero_wind = tc_wind.intensity.max(axis=0).nonzero()[1]\n",
    "\n",
    "country_code_all = get_country_code(tc_wind.centroids.lat[idx_non_zero_wind], \n",
    "                                    tc_wind.centroids.lon[idx_non_zero_wind])\n",
    "country_code_unique = np.trim_zeros(np.unique(country_code_all))\n"
   ]
  },
  {
   "cell_type": "code",
   "execution_count": 5,
   "metadata": {},
   "outputs": [],
   "source": [
    "from climada.entity import ImpactFunc, ImpactFuncSet\n",
    "\n",
    "def impf_step_func(threshold: float = 32.92):\n",
    "\n",
    "    impf = ImpactFunc.from_step_impf((0,threshold, 100),\n",
    "                                     haz_type=\"TC\")\n",
    "    \n",
    "    impf_set = ImpactFuncSet()\n",
    "    impf_set.append(impf)\n",
    "\n",
    "    return(impf_set)"
   ]
  },
  {
   "cell_type": "code",
   "execution_count": 19,
   "metadata": {},
   "outputs": [
    {
     "name": "stdout",
     "output_type": "stream",
     "text": [
      "2024-11-26 17:11:12,081 - climada.util.coordinates - WARNING - Distance to closest centroid is greater than 100km for 1572514 coordinates.\n",
      "2024-11-26 17:11:12,200 - climada.util.coordinates - WARNING - Distance to closest centroid is greater than 100km for 6905 coordinates.\n"
     ]
    }
   ],
   "source": [
    "from climada.engine import ImpactCalc\n",
    "from climada.util.api_client import Client\n",
    "from climada.util.coordinates import country_to_iso\n",
    "client = Client()\n",
    "\n",
    "impf_set_step = impf_step_func()\n",
    "\n",
    "imp_per_country_dict = {}\n",
    "\n",
    "for country_code in country_code_unique:\n",
    "    try:\n",
    "        exp = client.get_exposures(exposures_type='litpop',\n",
    "                                properties={'country_iso3num':[str(country_code)],\n",
    "                                            'exponents':'(0,1)',\n",
    "                                            'fin_mode':'pop',\n",
    "                                            'version':'v2'\n",
    "                                            }\n",
    "                                )\n",
    "    except client.NoResult:\n",
    "        f\"there is no matching dataset in Data API. Country code: {country_code}\"\n",
    "    \n",
    "    imp_exposed = ImpactCalc(exp, impf_set_step, tc_wind).impact()\n",
    "\n",
    "    if imp_exposed.aai_agg == 0.0:\n",
    "        continue\n",
    "    else:\n",
    "        imp_per_country_dict[country_to_iso(country_code, \"alpha3\")] = imp_exposed"
   ]
  },
  {
   "cell_type": "code",
   "execution_count": 20,
   "metadata": {},
   "outputs": [
    {
     "data": {
      "text/plain": [
       "{'JPN': <climada.engine.impact.Impact at 0x166462fd0>}"
      ]
     },
     "execution_count": 20,
     "metadata": {},
     "output_type": "execute_result"
    }
   ],
   "source": [
    "imp_per_country_dict"
   ]
  },
  {
   "cell_type": "code",
   "execution_count": null,
   "metadata": {},
   "outputs": [],
   "source": []
  }
 ],
 "metadata": {
  "kernelspec": {
   "display_name": "climada_env",
   "language": "python",
   "name": "python3"
  },
  "language_info": {
   "codemirror_mode": {
    "name": "ipython",
    "version": 3
   },
   "file_extension": ".py",
   "mimetype": "text/x-python",
   "name": "python",
   "nbconvert_exporter": "python",
   "pygments_lexer": "ipython3",
   "version": "3.11.6"
  }
 },
 "nbformat": 4,
 "nbformat_minor": 2
}
